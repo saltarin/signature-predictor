{
 "cells": [
  {
   "cell_type": "code",
   "execution_count": 66,
   "metadata": {},
   "outputs": [
    {
     "name": "stdout",
     "output_type": "stream",
     "text": [
      "Requirement already satisfied: kagglehub in /Users/mako/.pyenv/versions/3.11.9/lib/python3.11/site-packages (0.3.12)\n",
      "Requirement already satisfied: python-dotenv in /Users/mako/.pyenv/versions/3.11.9/lib/python3.11/site-packages (1.1.1)\n",
      "Requirement already satisfied: packaging in /Users/mako/.pyenv/versions/3.11.9/lib/python3.11/site-packages (from kagglehub) (25.0)\n",
      "Requirement already satisfied: pyyaml in /Users/mako/.pyenv/versions/3.11.9/lib/python3.11/site-packages (from kagglehub) (6.0.2)\n",
      "Requirement already satisfied: requests in /Users/mako/.pyenv/versions/3.11.9/lib/python3.11/site-packages (from kagglehub) (2.32.4)\n",
      "Requirement already satisfied: tqdm in /Users/mako/.pyenv/versions/3.11.9/lib/python3.11/site-packages (from kagglehub) (4.67.1)\n",
      "Requirement already satisfied: charset_normalizer<4,>=2 in /Users/mako/.pyenv/versions/3.11.9/lib/python3.11/site-packages (from requests->kagglehub) (3.4.2)\n",
      "Requirement already satisfied: idna<4,>=2.5 in /Users/mako/.pyenv/versions/3.11.9/lib/python3.11/site-packages (from requests->kagglehub) (3.10)\n",
      "Requirement already satisfied: urllib3<3,>=1.21.1 in /Users/mako/.pyenv/versions/3.11.9/lib/python3.11/site-packages (from requests->kagglehub) (2.4.0)\n",
      "Requirement already satisfied: certifi>=2017.4.17 in /Users/mako/.pyenv/versions/3.11.9/lib/python3.11/site-packages (from requests->kagglehub) (2025.6.15)\n",
      "Requirement already satisfied: pydot in /Users/mako/.pyenv/versions/3.11.9/lib/python3.11/site-packages (4.0.1)\n",
      "Requirement already satisfied: pyparsing>=3.1.0 in /Users/mako/.pyenv/versions/3.11.9/lib/python3.11/site-packages (from pydot) (3.2.3)\n"
     ]
    }
   ],
   "source": [
    "!pip install kagglehub python-dotenv\n",
    "!pip install pydot"
   ]
  },
  {
   "cell_type": "code",
   "execution_count": 67,
   "metadata": {},
   "outputs": [],
   "source": [
    "import os\n",
    "from dotenv import dotenv_values\n",
    "import matplotlib.pyplot as plt\n",
    "import kagglehub\n",
    "import pandas as pd\n",
    "import numpy as np\n",
    "import tensorflow as tf\n",
    "from tensorflow import keras\n",
    "from tensorflow.keras import layers\n",
    "from sklearn.model_selection import train_test_split\n",
    "from tensorflow.keras.utils import plot_model, to_categorical\n",
    "from sklearn.preprocessing import LabelEncoder, StandardScaler\n",
    "from sklearn.metrics import confusion_matrix, ConfusionMatrixDisplay\n",
    "import joblib"
   ]
  },
  {
   "cell_type": "code",
   "execution_count": 68,
   "metadata": {},
   "outputs": [
    {
     "name": "stdout",
     "output_type": "stream",
     "text": [
      "Variables de entorno de Kaggle cargadas.\n"
     ]
    }
   ],
   "source": [
    "env_vars = dotenv_values(\"../../.env\")\n",
    "os.environ['KAGGLE_USERNAME'] = env_vars.get('KAGGLE_USERNAME', '')\n",
    "os.environ['KAGGLE_KEY'] = env_vars.get('KAGGLE_KEY', '')\n",
    "os.environ['KAGGLEHUB_CACHE'] = env_vars.get('KAGGLEHUB_CACHE', '')\n",
    "\n",
    "print(\"Variables de entorno de Kaggle cargadas.\")"
   ]
  },
  {
   "cell_type": "code",
   "execution_count": 69,
   "metadata": {},
   "outputs": [
    {
     "name": "stdout",
     "output_type": "stream",
     "text": [
      "Path to dataset files: ../../model/data/raw/datasets/ahmedkhairy11/signclusive-mediapipe/versions/2\n"
     ]
    }
   ],
   "source": [
    "path = kagglehub.dataset_download(\"ahmedkhairy11/signclusive-mediapipe\")\n",
    "\n",
    "print(\"Path to dataset files:\", path)"
   ]
  },
  {
   "cell_type": "code",
   "execution_count": 70,
   "metadata": {},
   "outputs": [
    {
     "name": "stdout",
     "output_type": "stream",
     "text": [
      "<class 'pandas.core.frame.DataFrame'>\n",
      "RangeIndex: 13450 entries, 0 to 13449\n",
      "Data columns (total 44 columns):\n",
      " #   Column    Non-Null Count  Dtype  \n",
      "---  ------    --------------  -----  \n",
      " 0   folder    13450 non-null  object \n",
      " 1   filename  13450 non-null  object \n",
      " 2   x0        13450 non-null  float64\n",
      " 3   y0        13450 non-null  float64\n",
      " 4   x1        13450 non-null  float64\n",
      " 5   y1        13450 non-null  float64\n",
      " 6   x2        13450 non-null  float64\n",
      " 7   y2        13450 non-null  float64\n",
      " 8   x3        13450 non-null  float64\n",
      " 9   y3        13450 non-null  float64\n",
      " 10  x4        13450 non-null  float64\n",
      " 11  y4        13450 non-null  float64\n",
      " 12  x5        13450 non-null  float64\n",
      " 13  y5        13450 non-null  float64\n",
      " 14  x6        13450 non-null  float64\n",
      " 15  y6        13450 non-null  float64\n",
      " 16  x7        13450 non-null  float64\n",
      " 17  y7        13450 non-null  float64\n",
      " 18  x8        13450 non-null  float64\n",
      " 19  y8        13450 non-null  float64\n",
      " 20  x9        13450 non-null  float64\n",
      " 21  y9        13450 non-null  float64\n",
      " 22  x10       13450 non-null  float64\n",
      " 23  y10       13450 non-null  float64\n",
      " 24  x11       13450 non-null  float64\n",
      " 25  y11       13450 non-null  float64\n",
      " 26  x12       13450 non-null  float64\n",
      " 27  y12       13450 non-null  float64\n",
      " 28  x13       13450 non-null  float64\n",
      " 29  y13       13450 non-null  float64\n",
      " 30  x14       13450 non-null  float64\n",
      " 31  y14       13450 non-null  float64\n",
      " 32  x15       13450 non-null  float64\n",
      " 33  y15       13450 non-null  float64\n",
      " 34  x16       13450 non-null  float64\n",
      " 35  y16       13450 non-null  float64\n",
      " 36  x17       13450 non-null  float64\n",
      " 37  y17       13450 non-null  float64\n",
      " 38  x18       13450 non-null  float64\n",
      " 39  y18       13450 non-null  float64\n",
      " 40  x19       13450 non-null  float64\n",
      " 41  y19       13450 non-null  float64\n",
      " 42  x20       13450 non-null  float64\n",
      " 43  y20       13450 non-null  float64\n",
      "dtypes: float64(42), object(2)\n",
      "memory usage: 4.5+ MB\n"
     ]
    }
   ],
   "source": [
    "csv_path = '../data/raw/datasets/ahmedkhairy11/signclusive-mediapipe/versions/2/hand_keypoints.csv'\n",
    "df = pd.read_csv(csv_path)\n",
    "\n",
    "df.info()"
   ]
  },
  {
   "cell_type": "code",
   "execution_count": 71,
   "metadata": {},
   "outputs": [
    {
     "name": "stdout",
     "output_type": "stream",
     "text": [
      "folder\n",
      "A        500\n",
      "M        500\n",
      "Y        500\n",
      "X        500\n",
      "W        500\n",
      "U        500\n",
      "T        500\n",
      "space    500\n",
      "R        500\n",
      "P        500\n",
      "O        500\n",
      "B        500\n",
      "N        500\n",
      "L        500\n",
      "J        500\n",
      "I        500\n",
      "H        500\n",
      "G        500\n",
      "F        500\n",
      "E        500\n",
      "D        500\n",
      "Z        500\n",
      "S        499\n",
      "K        497\n",
      "V        494\n",
      "C        493\n",
      "Q        467\n",
      "Name: count, dtype: int64\n",
      "Series([], dtype: int64)\n"
     ]
    }
   ],
   "source": [
    "# ETL\n",
    "label_column ='folder'\n",
    "feature_columns = [col for col in df.columns if col not in [label_column, 'filename']]\n",
    "unique_labels = df[label_column].unique()\n",
    "\n",
    "print(df[label_column].value_counts())\n",
    "\n",
    "# missing_values = df.isnull().sum()\n",
    "# print(missing_values[missing_values > 0])\n",
    "\n",
    "# aumento de datos - convertir las fotos de la mano derecha en una foto de mano izquierda (TEST)\n",
    "df_flipped = df.copy()\n",
    "\n",
    "x_cols = [col for col in feature_columns if 'x' in col]\n",
    "df_flipped[x_cols] = 1 - df_flipped[x_cols]\n",
    "\n",
    "df_augmented = pd.concat([df, df_flipped], ignore_index=True)\n",
    "missing_values = df_augmented.isnull().sum()\n",
    "print(missing_values[missing_values > 0])\n"
   ]
  },
  {
   "cell_type": "code",
   "execution_count": 72,
   "metadata": {},
   "outputs": [
    {
     "name": "stdout",
     "output_type": "stream",
     "text": [
      "         x0        y0        x1        y1        x2        y2        x3  \\\n",
      "0 -2.362253 -2.281340 -2.063188 -2.291839 -1.636734 -2.309633 -1.547768   \n",
      "1 -2.363597 -2.281366 -2.071570 -2.261639 -1.645237 -2.308648 -1.557576   \n",
      "2 -2.330756 -2.004992 -2.016297 -2.045046 -1.604280 -2.039683 -1.522281   \n",
      "3 -0.509934 -0.602133 -0.115320 -0.563685  0.211810 -0.588787  0.352672   \n",
      "4 -0.508586 -0.592966 -0.119863 -0.549031  0.210407 -0.574552  0.355061   \n",
      "\n",
      "         y3        x4        y4  ...       x16       y16       x17       y17  \\\n",
      "0 -2.331030 -1.442288 -2.364767  ... -2.315814 -1.358854 -2.270956 -2.124284   \n",
      "1 -2.345874 -1.443519 -2.374196  ... -2.301456 -1.341956 -2.272413 -2.134958   \n",
      "2 -2.077956 -1.418709 -2.132472  ... -2.283430 -1.111538 -2.258836 -1.843261   \n",
      "3 -0.635875  0.446516 -0.752791  ... -0.436688  0.181937 -0.646019 -0.499187   \n",
      "4 -0.631630  0.453280 -0.749722  ... -0.422350  0.182541 -0.639223 -0.498990   \n",
      "\n",
      "        x18       y18       x19       y19       x20       y20  \n",
      "0 -2.223543 -1.966642 -2.236046 -1.586344 -2.231567 -1.262601  \n",
      "1 -2.225108 -1.978904 -2.237948 -1.572690 -2.232780 -1.241022  \n",
      "2 -2.218580 -1.714353 -2.223944 -1.344184 -2.214658 -1.026346  \n",
      "3 -0.556157 -0.400006 -0.548701 -0.139280 -0.551532  0.040896  \n",
      "4 -0.551895 -0.395204 -0.537278 -0.133757 -0.535429  0.048803  \n",
      "\n",
      "[5 rows x 42 columns]\n",
      "\n",
      "Dimensiones de X_train: (21520, 42)\n",
      "Dimensiones de X_test: (5380, 42)\n",
      "Dimensiones de y_train: (21520,)\n",
      "Dimensiones de y_test: (5380,)\n",
      "Número de clases únicas: 27\n"
     ]
    },
    {
     "data": {
      "text/plain": [
       "['../saved_models/scaler.pkl']"
      ]
     },
     "execution_count": 72,
     "metadata": {},
     "output_type": "execute_result"
    }
   ],
   "source": [
    "# EDA\n",
    "\n",
    "X = df_augmented[feature_columns]\n",
    "y = df_augmented[label_column]\n",
    "\n",
    "scaler = StandardScaler()\n",
    "X_scaled = scaler.fit_transform(X)\n",
    "X_scaled_df = pd.DataFrame(X_scaled, columns=feature_columns)\n",
    "\n",
    "print(X_scaled_df.head())\n",
    "\n",
    "label_encoder = LabelEncoder()\n",
    "y_encoded = label_encoder.fit_transform(y)\n",
    "\n",
    "X_train, X_test, y_train, y_test = train_test_split(\n",
    "    X_scaled_df, y_encoded, test_size=0.2, random_state=42, stratify=y_encoded\n",
    ")\n",
    "\n",
    "print(f\"\\nDimensiones de X_train: {X_train.shape}\")\n",
    "print(f\"Dimensiones de X_test: {X_test.shape}\")\n",
    "print(f\"Dimensiones de y_train: {y_train.shape}\")\n",
    "print(f\"Dimensiones de y_test: {y_test.shape}\")\n",
    "print(f\"Número de clases únicas: {len(label_encoder.classes_)}\")\n",
    "\n",
    "joblib.dump(label_encoder, '../saved_models/label_encoder.pkl')\n",
    "joblib.dump(scaler, os.path.join(save_dir, 'scaler.pkl'))\n"
   ]
  },
  {
   "cell_type": "code",
   "execution_count": 73,
   "metadata": {},
   "outputs": [],
   "source": [
    "num_classes = len(label_encoder.classes_)\n",
    "y_train_one_hot = to_categorical(y_train, num_classes=num_classes)\n",
    "y_test_one_hot = to_categorical(y_test, num_classes=num_classes)"
   ]
  },
  {
   "cell_type": "code",
   "execution_count": 74,
   "metadata": {},
   "outputs": [],
   "source": [
    "input_shape = X_train.shape[1]\n",
    "\n",
    "model = keras.Sequential([\n",
    "\n",
    "    keras.Input(shape=(input_shape,)),\n",
    "\n",
    "    layers.Dense(256, activation='relu'),\n",
    "    layers.Dropout(0.3),\n",
    "\n",
    "    layers.Dense(128, activation='relu'),\n",
    "    layers.Dropout(0.3),\n",
    "\n",
    "    layers.Dense(64, activation='relu'),\n",
    "    layers.Dropout(0.2),\n",
    "\n",
    "    layers.Dense(num_classes, activation='softmax')\n",
    "])\n"
   ]
  },
  {
   "cell_type": "code",
   "execution_count": 75,
   "metadata": {},
   "outputs": [
    {
     "data": {
      "text/html": [
       "<pre style=\"white-space:pre;overflow-x:auto;line-height:normal;font-family:Menlo,'DejaVu Sans Mono',consolas,'Courier New',monospace\"><span style=\"font-weight: bold\">Model: \"sequential_1\"</span>\n",
       "</pre>\n"
      ],
      "text/plain": [
       "\u001b[1mModel: \"sequential_1\"\u001b[0m\n"
      ]
     },
     "metadata": {},
     "output_type": "display_data"
    },
    {
     "data": {
      "text/html": [
       "<pre style=\"white-space:pre;overflow-x:auto;line-height:normal;font-family:Menlo,'DejaVu Sans Mono',consolas,'Courier New',monospace\">┏━━━━━━━━━━━━━━━━━━━━━━━━━━━━━━━━━┳━━━━━━━━━━━━━━━━━━━━━━━━┳━━━━━━━━━━━━━━━┓\n",
       "┃<span style=\"font-weight: bold\"> Layer (type)                    </span>┃<span style=\"font-weight: bold\"> Output Shape           </span>┃<span style=\"font-weight: bold\">       Param # </span>┃\n",
       "┡━━━━━━━━━━━━━━━━━━━━━━━━━━━━━━━━━╇━━━━━━━━━━━━━━━━━━━━━━━━╇━━━━━━━━━━━━━━━┩\n",
       "│ dense_4 (<span style=\"color: #0087ff; text-decoration-color: #0087ff\">Dense</span>)                 │ (<span style=\"color: #00d7ff; text-decoration-color: #00d7ff\">None</span>, <span style=\"color: #00af00; text-decoration-color: #00af00\">256</span>)            │        <span style=\"color: #00af00; text-decoration-color: #00af00\">11,008</span> │\n",
       "├─────────────────────────────────┼────────────────────────┼───────────────┤\n",
       "│ dropout_3 (<span style=\"color: #0087ff; text-decoration-color: #0087ff\">Dropout</span>)             │ (<span style=\"color: #00d7ff; text-decoration-color: #00d7ff\">None</span>, <span style=\"color: #00af00; text-decoration-color: #00af00\">256</span>)            │             <span style=\"color: #00af00; text-decoration-color: #00af00\">0</span> │\n",
       "├─────────────────────────────────┼────────────────────────┼───────────────┤\n",
       "│ dense_5 (<span style=\"color: #0087ff; text-decoration-color: #0087ff\">Dense</span>)                 │ (<span style=\"color: #00d7ff; text-decoration-color: #00d7ff\">None</span>, <span style=\"color: #00af00; text-decoration-color: #00af00\">128</span>)            │        <span style=\"color: #00af00; text-decoration-color: #00af00\">32,896</span> │\n",
       "├─────────────────────────────────┼────────────────────────┼───────────────┤\n",
       "│ dropout_4 (<span style=\"color: #0087ff; text-decoration-color: #0087ff\">Dropout</span>)             │ (<span style=\"color: #00d7ff; text-decoration-color: #00d7ff\">None</span>, <span style=\"color: #00af00; text-decoration-color: #00af00\">128</span>)            │             <span style=\"color: #00af00; text-decoration-color: #00af00\">0</span> │\n",
       "├─────────────────────────────────┼────────────────────────┼───────────────┤\n",
       "│ dense_6 (<span style=\"color: #0087ff; text-decoration-color: #0087ff\">Dense</span>)                 │ (<span style=\"color: #00d7ff; text-decoration-color: #00d7ff\">None</span>, <span style=\"color: #00af00; text-decoration-color: #00af00\">64</span>)             │         <span style=\"color: #00af00; text-decoration-color: #00af00\">8,256</span> │\n",
       "├─────────────────────────────────┼────────────────────────┼───────────────┤\n",
       "│ dropout_5 (<span style=\"color: #0087ff; text-decoration-color: #0087ff\">Dropout</span>)             │ (<span style=\"color: #00d7ff; text-decoration-color: #00d7ff\">None</span>, <span style=\"color: #00af00; text-decoration-color: #00af00\">64</span>)             │             <span style=\"color: #00af00; text-decoration-color: #00af00\">0</span> │\n",
       "├─────────────────────────────────┼────────────────────────┼───────────────┤\n",
       "│ dense_7 (<span style=\"color: #0087ff; text-decoration-color: #0087ff\">Dense</span>)                 │ (<span style=\"color: #00d7ff; text-decoration-color: #00d7ff\">None</span>, <span style=\"color: #00af00; text-decoration-color: #00af00\">27</span>)             │         <span style=\"color: #00af00; text-decoration-color: #00af00\">1,755</span> │\n",
       "└─────────────────────────────────┴────────────────────────┴───────────────┘\n",
       "</pre>\n"
      ],
      "text/plain": [
       "┏━━━━━━━━━━━━━━━━━━━━━━━━━━━━━━━━━┳━━━━━━━━━━━━━━━━━━━━━━━━┳━━━━━━━━━━━━━━━┓\n",
       "┃\u001b[1m \u001b[0m\u001b[1mLayer (type)                   \u001b[0m\u001b[1m \u001b[0m┃\u001b[1m \u001b[0m\u001b[1mOutput Shape          \u001b[0m\u001b[1m \u001b[0m┃\u001b[1m \u001b[0m\u001b[1m      Param #\u001b[0m\u001b[1m \u001b[0m┃\n",
       "┡━━━━━━━━━━━━━━━━━━━━━━━━━━━━━━━━━╇━━━━━━━━━━━━━━━━━━━━━━━━╇━━━━━━━━━━━━━━━┩\n",
       "│ dense_4 (\u001b[38;5;33mDense\u001b[0m)                 │ (\u001b[38;5;45mNone\u001b[0m, \u001b[38;5;34m256\u001b[0m)            │        \u001b[38;5;34m11,008\u001b[0m │\n",
       "├─────────────────────────────────┼────────────────────────┼───────────────┤\n",
       "│ dropout_3 (\u001b[38;5;33mDropout\u001b[0m)             │ (\u001b[38;5;45mNone\u001b[0m, \u001b[38;5;34m256\u001b[0m)            │             \u001b[38;5;34m0\u001b[0m │\n",
       "├─────────────────────────────────┼────────────────────────┼───────────────┤\n",
       "│ dense_5 (\u001b[38;5;33mDense\u001b[0m)                 │ (\u001b[38;5;45mNone\u001b[0m, \u001b[38;5;34m128\u001b[0m)            │        \u001b[38;5;34m32,896\u001b[0m │\n",
       "├─────────────────────────────────┼────────────────────────┼───────────────┤\n",
       "│ dropout_4 (\u001b[38;5;33mDropout\u001b[0m)             │ (\u001b[38;5;45mNone\u001b[0m, \u001b[38;5;34m128\u001b[0m)            │             \u001b[38;5;34m0\u001b[0m │\n",
       "├─────────────────────────────────┼────────────────────────┼───────────────┤\n",
       "│ dense_6 (\u001b[38;5;33mDense\u001b[0m)                 │ (\u001b[38;5;45mNone\u001b[0m, \u001b[38;5;34m64\u001b[0m)             │         \u001b[38;5;34m8,256\u001b[0m │\n",
       "├─────────────────────────────────┼────────────────────────┼───────────────┤\n",
       "│ dropout_5 (\u001b[38;5;33mDropout\u001b[0m)             │ (\u001b[38;5;45mNone\u001b[0m, \u001b[38;5;34m64\u001b[0m)             │             \u001b[38;5;34m0\u001b[0m │\n",
       "├─────────────────────────────────┼────────────────────────┼───────────────┤\n",
       "│ dense_7 (\u001b[38;5;33mDense\u001b[0m)                 │ (\u001b[38;5;45mNone\u001b[0m, \u001b[38;5;34m27\u001b[0m)             │         \u001b[38;5;34m1,755\u001b[0m │\n",
       "└─────────────────────────────────┴────────────────────────┴───────────────┘\n"
      ]
     },
     "metadata": {},
     "output_type": "display_data"
    },
    {
     "data": {
      "text/html": [
       "<pre style=\"white-space:pre;overflow-x:auto;line-height:normal;font-family:Menlo,'DejaVu Sans Mono',consolas,'Courier New',monospace\"><span style=\"font-weight: bold\"> Total params: </span><span style=\"color: #00af00; text-decoration-color: #00af00\">53,915</span> (210.61 KB)\n",
       "</pre>\n"
      ],
      "text/plain": [
       "\u001b[1m Total params: \u001b[0m\u001b[38;5;34m53,915\u001b[0m (210.61 KB)\n"
      ]
     },
     "metadata": {},
     "output_type": "display_data"
    },
    {
     "data": {
      "text/html": [
       "<pre style=\"white-space:pre;overflow-x:auto;line-height:normal;font-family:Menlo,'DejaVu Sans Mono',consolas,'Courier New',monospace\"><span style=\"font-weight: bold\"> Trainable params: </span><span style=\"color: #00af00; text-decoration-color: #00af00\">53,915</span> (210.61 KB)\n",
       "</pre>\n"
      ],
      "text/plain": [
       "\u001b[1m Trainable params: \u001b[0m\u001b[38;5;34m53,915\u001b[0m (210.61 KB)\n"
      ]
     },
     "metadata": {},
     "output_type": "display_data"
    },
    {
     "data": {
      "text/html": [
       "<pre style=\"white-space:pre;overflow-x:auto;line-height:normal;font-family:Menlo,'DejaVu Sans Mono',consolas,'Courier New',monospace\"><span style=\"font-weight: bold\"> Non-trainable params: </span><span style=\"color: #00af00; text-decoration-color: #00af00\">0</span> (0.00 B)\n",
       "</pre>\n"
      ],
      "text/plain": [
       "\u001b[1m Non-trainable params: \u001b[0m\u001b[38;5;34m0\u001b[0m (0.00 B)\n"
      ]
     },
     "metadata": {},
     "output_type": "display_data"
    }
   ],
   "source": [
    "model.summary()"
   ]
  },
  {
   "cell_type": "code",
   "execution_count": 76,
   "metadata": {},
   "outputs": [],
   "source": [
    "model.compile(\n",
    "    optimizer='adam',\n",
    "    loss='categorical_crossentropy',\n",
    "    metrics=['accuracy']\n",
    ")"
   ]
  },
  {
   "cell_type": "code",
   "execution_count": 77,
   "metadata": {},
   "outputs": [
    {
     "name": "stdout",
     "output_type": "stream",
     "text": [
      "Epoch 1/50\n",
      "\u001b[1m538/538\u001b[0m \u001b[32m━━━━━━━━━━━━━━━━━━━━\u001b[0m\u001b[37m\u001b[0m \u001b[1m1s\u001b[0m 984us/step - accuracy: 0.3639 - loss: 2.0931 - val_accuracy: 0.9210 - val_loss: 0.2483\n",
      "Epoch 2/50\n",
      "\u001b[1m538/538\u001b[0m \u001b[32m━━━━━━━━━━━━━━━━━━━━\u001b[0m\u001b[37m\u001b[0m \u001b[1m0s\u001b[0m 806us/step - accuracy: 0.8549 - loss: 0.3926 - val_accuracy: 0.9605 - val_loss: 0.1331\n",
      "Epoch 3/50\n",
      "\u001b[1m538/538\u001b[0m \u001b[32m━━━━━━━━━━━━━━━━━━━━\u001b[0m\u001b[37m\u001b[0m \u001b[1m0s\u001b[0m 785us/step - accuracy: 0.9118 - loss: 0.2385 - val_accuracy: 0.9719 - val_loss: 0.0771\n",
      "Epoch 4/50\n",
      "\u001b[1m538/538\u001b[0m \u001b[32m━━━━━━━━━━━━━━━━━━━━\u001b[0m\u001b[37m\u001b[0m \u001b[1m0s\u001b[0m 791us/step - accuracy: 0.9378 - loss: 0.1632 - val_accuracy: 0.9793 - val_loss: 0.0652\n",
      "Epoch 5/50\n",
      "\u001b[1m538/538\u001b[0m \u001b[32m━━━━━━━━━━━━━━━━━━━━\u001b[0m\u001b[37m\u001b[0m \u001b[1m0s\u001b[0m 891us/step - accuracy: 0.9492 - loss: 0.1448 - val_accuracy: 0.9944 - val_loss: 0.0291\n",
      "Epoch 6/50\n",
      "\u001b[1m538/538\u001b[0m \u001b[32m━━━━━━━━━━━━━━━━━━━━\u001b[0m\u001b[37m\u001b[0m \u001b[1m0s\u001b[0m 879us/step - accuracy: 0.9655 - loss: 0.0957 - val_accuracy: 0.9972 - val_loss: 0.0213\n",
      "Epoch 7/50\n",
      "\u001b[1m538/538\u001b[0m \u001b[32m━━━━━━━━━━━━━━━━━━━━\u001b[0m\u001b[37m\u001b[0m \u001b[1m0s\u001b[0m 796us/step - accuracy: 0.9696 - loss: 0.0880 - val_accuracy: 0.9988 - val_loss: 0.0114\n",
      "Epoch 8/50\n",
      "\u001b[1m538/538\u001b[0m \u001b[32m━━━━━━━━━━━━━━━━━━━━\u001b[0m\u001b[37m\u001b[0m \u001b[1m0s\u001b[0m 812us/step - accuracy: 0.9763 - loss: 0.0690 - val_accuracy: 0.9958 - val_loss: 0.0177\n",
      "Epoch 9/50\n",
      "\u001b[1m538/538\u001b[0m \u001b[32m━━━━━━━━━━━━━━━━━━━━\u001b[0m\u001b[37m\u001b[0m \u001b[1m0s\u001b[0m 821us/step - accuracy: 0.9782 - loss: 0.0639 - val_accuracy: 0.9993 - val_loss: 0.0072\n",
      "Epoch 10/50\n",
      "\u001b[1m538/538\u001b[0m \u001b[32m━━━━━━━━━━━━━━━━━━━━\u001b[0m\u001b[37m\u001b[0m \u001b[1m0s\u001b[0m 847us/step - accuracy: 0.9812 - loss: 0.0561 - val_accuracy: 0.9972 - val_loss: 0.0082\n",
      "Epoch 11/50\n",
      "\u001b[1m538/538\u001b[0m \u001b[32m━━━━━━━━━━━━━━━━━━━━\u001b[0m\u001b[37m\u001b[0m \u001b[1m0s\u001b[0m 807us/step - accuracy: 0.9821 - loss: 0.0604 - val_accuracy: 0.9979 - val_loss: 0.0058\n",
      "Epoch 12/50\n",
      "\u001b[1m538/538\u001b[0m \u001b[32m━━━━━━━━━━━━━━━━━━━━\u001b[0m\u001b[37m\u001b[0m \u001b[1m1s\u001b[0m 929us/step - accuracy: 0.9835 - loss: 0.0489 - val_accuracy: 0.9981 - val_loss: 0.0068\n",
      "Epoch 13/50\n",
      "\u001b[1m538/538\u001b[0m \u001b[32m━━━━━━━━━━━━━━━━━━━━\u001b[0m\u001b[37m\u001b[0m \u001b[1m0s\u001b[0m 798us/step - accuracy: 0.9824 - loss: 0.0581 - val_accuracy: 0.9986 - val_loss: 0.0040\n",
      "Epoch 14/50\n",
      "\u001b[1m538/538\u001b[0m \u001b[32m━━━━━━━━━━━━━━━━━━━━\u001b[0m\u001b[37m\u001b[0m \u001b[1m0s\u001b[0m 806us/step - accuracy: 0.9872 - loss: 0.0406 - val_accuracy: 0.9970 - val_loss: 0.0068\n",
      "Epoch 15/50\n",
      "\u001b[1m538/538\u001b[0m \u001b[32m━━━━━━━━━━━━━━━━━━━━\u001b[0m\u001b[37m\u001b[0m \u001b[1m0s\u001b[0m 819us/step - accuracy: 0.9808 - loss: 0.0620 - val_accuracy: 0.9967 - val_loss: 0.0087\n",
      "Epoch 16/50\n",
      "\u001b[1m538/538\u001b[0m \u001b[32m━━━━━━━━━━━━━━━━━━━━\u001b[0m\u001b[37m\u001b[0m \u001b[1m0s\u001b[0m 828us/step - accuracy: 0.9852 - loss: 0.0479 - val_accuracy: 0.9993 - val_loss: 0.0044\n",
      "Epoch 17/50\n",
      "\u001b[1m538/538\u001b[0m \u001b[32m━━━━━━━━━━━━━━━━━━━━\u001b[0m\u001b[37m\u001b[0m \u001b[1m0s\u001b[0m 833us/step - accuracy: 0.9868 - loss: 0.0411 - val_accuracy: 0.9991 - val_loss: 0.0025\n",
      "Epoch 18/50\n",
      "\u001b[1m538/538\u001b[0m \u001b[32m━━━━━━━━━━━━━━━━━━━━\u001b[0m\u001b[37m\u001b[0m \u001b[1m0s\u001b[0m 809us/step - accuracy: 0.9894 - loss: 0.0358 - val_accuracy: 0.9972 - val_loss: 0.0098\n",
      "Epoch 19/50\n",
      "\u001b[1m538/538\u001b[0m \u001b[32m━━━━━━━━━━━━━━━━━━━━\u001b[0m\u001b[37m\u001b[0m \u001b[1m0s\u001b[0m 803us/step - accuracy: 0.9872 - loss: 0.0399 - val_accuracy: 1.0000 - val_loss: 8.9159e-04\n",
      "Epoch 20/50\n",
      "\u001b[1m538/538\u001b[0m \u001b[32m━━━━━━━━━━━━━━━━━━━━\u001b[0m\u001b[37m\u001b[0m \u001b[1m1s\u001b[0m 959us/step - accuracy: 0.9903 - loss: 0.0297 - val_accuracy: 0.9995 - val_loss: 0.0016\n",
      "Epoch 21/50\n",
      "\u001b[1m538/538\u001b[0m \u001b[32m━━━━━━━━━━━━━━━━━━━━\u001b[0m\u001b[37m\u001b[0m \u001b[1m0s\u001b[0m 867us/step - accuracy: 0.9870 - loss: 0.0397 - val_accuracy: 0.9984 - val_loss: 0.0072\n",
      "Epoch 22/50\n",
      "\u001b[1m538/538\u001b[0m \u001b[32m━━━━━━━━━━━━━━━━━━━━\u001b[0m\u001b[37m\u001b[0m \u001b[1m0s\u001b[0m 819us/step - accuracy: 0.9897 - loss: 0.0324 - val_accuracy: 1.0000 - val_loss: 0.0017\n",
      "Epoch 23/50\n",
      "\u001b[1m538/538\u001b[0m \u001b[32m━━━━━━━━━━━━━━━━━━━━\u001b[0m\u001b[37m\u001b[0m \u001b[1m0s\u001b[0m 834us/step - accuracy: 0.9907 - loss: 0.0284 - val_accuracy: 0.9998 - val_loss: 0.0030\n",
      "Epoch 24/50\n",
      "\u001b[1m538/538\u001b[0m \u001b[32m━━━━━━━━━━━━━━━━━━━━\u001b[0m\u001b[37m\u001b[0m \u001b[1m0s\u001b[0m 832us/step - accuracy: 0.9900 - loss: 0.0322 - val_accuracy: 0.9951 - val_loss: 0.0153\n",
      "Epoch 25/50\n",
      "\u001b[1m538/538\u001b[0m \u001b[32m━━━━━━━━━━━━━━━━━━━━\u001b[0m\u001b[37m\u001b[0m \u001b[1m0s\u001b[0m 807us/step - accuracy: 0.9889 - loss: 0.0387 - val_accuracy: 0.9986 - val_loss: 0.0042\n",
      "Epoch 26/50\n",
      "\u001b[1m538/538\u001b[0m \u001b[32m━━━━━━━━━━━━━━━━━━━━\u001b[0m\u001b[37m\u001b[0m \u001b[1m0s\u001b[0m 808us/step - accuracy: 0.9915 - loss: 0.0293 - val_accuracy: 0.9967 - val_loss: 0.0214\n",
      "Epoch 27/50\n",
      "\u001b[1m538/538\u001b[0m \u001b[32m━━━━━━━━━━━━━━━━━━━━\u001b[0m\u001b[37m\u001b[0m \u001b[1m0s\u001b[0m 819us/step - accuracy: 0.9901 - loss: 0.0329 - val_accuracy: 0.9995 - val_loss: 0.0021\n",
      "Epoch 28/50\n",
      "\u001b[1m538/538\u001b[0m \u001b[32m━━━━━━━━━━━━━━━━━━━━\u001b[0m\u001b[37m\u001b[0m \u001b[1m0s\u001b[0m 834us/step - accuracy: 0.9892 - loss: 0.0344 - val_accuracy: 0.9981 - val_loss: 0.0061\n",
      "Epoch 29/50\n",
      "\u001b[1m538/538\u001b[0m \u001b[32m━━━━━━━━━━━━━━━━━━━━\u001b[0m\u001b[37m\u001b[0m \u001b[1m0s\u001b[0m 811us/step - accuracy: 0.9916 - loss: 0.0301 - val_accuracy: 1.0000 - val_loss: 0.0014\n",
      "Epoch 29: early stopping\n",
      "Restoring model weights from the end of the best epoch: 19.\n"
     ]
    }
   ],
   "source": [
    "EPOCHS = 50\n",
    "BATCH_SIZE = 32\n",
    "\n",
    "early_stopping = tf.keras.callbacks.EarlyStopping(\n",
    "    monitor='val_loss',\n",
    "    patience=10,\n",
    "    verbose=1,\n",
    "    mode='min',\n",
    "    restore_best_weights=True,\n",
    ")\n",
    "\n",
    "history = model.fit(\n",
    "    X_train, y_train_one_hot,\n",
    "    epochs=EPOCHS,\n",
    "    batch_size=BATCH_SIZE,\n",
    "    validation_split=0.2,\n",
    "    verbose=1,\n",
    "    callbacks=[early_stopping]\n",
    ")"
   ]
  },
  {
   "cell_type": "code",
   "execution_count": 78,
   "metadata": {},
   "outputs": [],
   "source": [
    "loss, accuracy = model.evaluate(X_test, y_test_one_hot, verbose=0)"
   ]
  },
  {
   "cell_type": "code",
   "execution_count": 79,
   "metadata": {},
   "outputs": [
    {
     "data": {
      "text/plain": [
       "<matplotlib.legend.Legend at 0x3544cbb90>"
      ]
     },
     "execution_count": 79,
     "metadata": {},
     "output_type": "execute_result"
    },
    {
     "data": {
      "image/png": "[encoded data removed]",
      "text/plain": [
       "<Figure size 1800x800 with 2 Axes>"
      ]
     },
     "metadata": {},
     "output_type": "display_data"
    }
   ],
   "source": [
    "# Train\n",
    "\n",
    "plt.figure(figsize=(18, 8))\n",
    "\n",
    "# Loss\n",
    "plt.subplot(2, 3, 1)\n",
    "plt.plot(history.history['loss'])\n",
    "plt.plot(history.history['val_loss'])\n",
    "plt.title('Model Loss')\n",
    "plt.ylabel('Loss')\n",
    "plt.xlabel('Epoch')\n",
    "plt.legend(['Train', 'Validation', 'Best Epoch'], loc='upper right')\n",
    "\n",
    "# Accuracy\n",
    "plt.subplot(2, 3, 2)\n",
    "plt.plot(history.history['accuracy'])\n",
    "plt.plot(history.history['val_accuracy'])\n",
    "plt.title('Model Accuracy')\n",
    "plt.ylabel('Accuracy')\n",
    "plt.xlabel('Epoch')\n",
    "plt.legend(['Train', 'Validation', 'Best Epoch'], loc='lower right')"
   ]
  },
  {
   "cell_type": "code",
   "execution_count": 80,
   "metadata": {},
   "outputs": [
    {
     "name": "stdout",
     "output_type": "stream",
     "text": [
      "\u001b[1m169/169\u001b[0m \u001b[32m━━━━━━━━━━━━━━━━━━━━\u001b[0m\u001b[37m\u001b[0m \u001b[1m0s\u001b[0m 393us/step\n"
     ]
    },
    {
     "data": {
      "text/plain": [
       "<Figure size 1500x1500 with 0 Axes>"
      ]
     },
     "metadata": {},
     "output_type": "display_data"
    },
    {
     "data": {
      "image/png": "[encoded data removed]",
      "text/plain": [
       "<Figure size 640x480 with 2 Axes>"
      ]
     },
     "metadata": {},
     "output_type": "display_data"
    }
   ],
   "source": [
    "from sklearn.metrics import confusion_matrix, ConfusionMatrixDisplay\n",
    "\n",
    "y_pred_probabilities = model.predict(X_test)\n",
    "y_pred_labels = np.argmax(y_pred_probabilities, axis=1)\n",
    "\n",
    "cm = confusion_matrix(y_test, y_pred_labels)\n",
    "\n",
    "display_labels = label_encoder.classes_\n",
    "\n",
    "plt.figure(figsize=(15, 15))\n",
    "disp = ConfusionMatrixDisplay(confusion_matrix=cm, display_labels=display_labels)\n",
    "disp.plot(cmap=plt.cm.Blues, xticks_rotation='vertical')\n",
    "plt.title('Matriz de Confusión')\n",
    "plt.show()\n",
    "\n",
    "# print(\"\\nMatriz de Confusión (numérica):\\n\", cm)"
   ]
  },
  {
   "cell_type": "code",
   "execution_count": 81,
   "metadata": {},
   "outputs": [
    {
     "name": "stdout",
     "output_type": "stream",
     "text": [
      "modelo guardado en: ../saved_models/signclusive-mediapipe-model.keras\n"
     ]
    }
   ],
   "source": [
    "save_dir='../saved_models'\n",
    "\n",
    "model_save_path = os.path.join(save_dir, 'signclusive-mediapipe-model.keras')\n",
    "model.save(model_save_path)\n",
    "\n",
    "print(f\"modelo guardado en: {model_save_path}\")\n"
   ]
  }
 ],
 "metadata": {
  "kernelspec": {
   "display_name": "Python 3",
   "language": "python",
   "name": "python3"
  },
  "language_info": {
   "codemirror_mode": {
    "name": "ipython",
    "version": 3
   },
   "file_extension": ".py",
   "mimetype": "text/x-python",
   "name": "python",
   "nbconvert_exporter": "python",
   "pygments_lexer": "ipython3",
   "version": "3.11.9"
  }
 },
 "nbformat": 4,
 "nbformat_minor": 4
}
